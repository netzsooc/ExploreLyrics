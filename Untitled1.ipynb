# To add a new cell, type '#%%'
# To add a new markdown cell, type '#%% [markdown]'

#%%
Ejemplo = 1
print(Ejemplo * 8)

#%% [markdown]
# #Esto va con título y todo el pedo

# el ejemplo de algo que se intenta hacer